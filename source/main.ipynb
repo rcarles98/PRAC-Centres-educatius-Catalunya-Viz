{
 "cells": [
  {
   "cell_type": "markdown",
   "id": "d7f911bd",
   "metadata": {},
   "source": [
    "**Requirements**"
   ]
  },
  {
   "cell_type": "code",
   "execution_count": null,
   "id": "35511bcf",
   "metadata": {},
   "outputs": [],
   "source": [
    "import pandas as pd\n",
    "import matplotlib.pyplot as plt\n",
    "import numpy as np"
   ]
  },
  {
   "cell_type": "markdown",
   "id": "cb145c98",
   "metadata": {},
   "source": [
    "**Import data**"
   ]
  },
  {
   "cell_type": "code",
   "execution_count": null,
   "id": "57315e5c",
   "metadata": {},
   "outputs": [],
   "source": [
    "centres = pd.read_csv('Centres_docents.csv', low_memory=False)\n",
    "alumnes = pd.read_csv('Alumnes_matriculats.csv', low_memory=False)\n",
    "centres_coords = pd.read_excel('centres_coords.xlsx')"
   ]
  },
  {
   "cell_type": "markdown",
   "id": "5dd63ada",
   "metadata": {},
   "source": [
    "**Data for Interactive Map**"
   ]
  },
  {
   "cell_type": "code",
   "execution_count": null,
   "id": "701f1ee1",
   "metadata": {},
   "outputs": [],
   "source": [
    "out = centres_coords.iloc[:,[0,1,3,5,26,27,28,29,30,31,32,24,25]]\n",
    "out = out.astype({'Codi_centre':'str'})\n",
    "out = out.apply(lambda x: x.str.replace(',','.'))\n",
    "out = out.astype({'Coordenades_GEO_X':'float','Coordenades_GEO_Y':'float'})\n",
    "out = out.rename(columns={'Denominació_completa': 'Nom', \n",
    "                          'Nom_naturalesa': 'Naturalesa',\n",
    "                         'Nom_titularitat':'Titularitat',\n",
    "                         'E-mail_centre': 'E-mail',\n",
    "                         'Coordenades_GEO_X':'Longitud',\n",
    "                         'Coordenades_GEO_Y':'Latitud'})\n",
    "out = out.loc[out['Estudis'].str.contains(\"ESO|BATX|EINF2C|EPRI|EINF1C\", case=False)]\n",
    "\n",
    "out.fillna('No', inplace=True)\n",
    "for i in ['ESO','BATX','EINF2C','EPRI','EINF1C']:\n",
    "    out[i] = out[i].replace([i], 'Sí')\n",
    "\n",
    "out = out.rename(columns={'EINF1C':'Infantil 1',\n",
    "                         'EINF2C':'Infantil 2',\n",
    "                         'EPRI':'Primària',\n",
    "                         'BATX':'Batxillerat'})\n",
    "out\n"
   ]
  },
  {
   "cell_type": "markdown",
   "id": "e917dc43",
   "metadata": {},
   "source": [
    "Generate csv file 'out'"
   ]
  },
  {
   "cell_type": "code",
   "execution_count": 103,
   "id": "ee366eb6",
   "metadata": {},
   "outputs": [],
   "source": [
    "out.to_csv('out.csv', index=False)"
   ]
  },
  {
   "cell_type": "markdown",
   "id": "9cd03556",
   "metadata": {},
   "source": [
    "**Data for Proportional Chart**"
   ]
  },
  {
   "cell_type": "code",
   "execution_count": 48,
   "id": "a51e7c24",
   "metadata": {},
   "outputs": [
    {
     "data": {
      "text/html": [
       "<div>\n",
       "<style scoped>\n",
       "    .dataframe tbody tr th:only-of-type {\n",
       "        vertical-align: middle;\n",
       "    }\n",
       "\n",
       "    .dataframe tbody tr th {\n",
       "        vertical-align: top;\n",
       "    }\n",
       "\n",
       "    .dataframe thead th {\n",
       "        text-align: right;\n",
       "    }\n",
       "</style>\n",
       "<table border=\"1\" class=\"dataframe\">\n",
       "  <thead>\n",
       "    <tr style=\"text-align: right;\">\n",
       "      <th></th>\n",
       "      <th></th>\n",
       "      <th>Matrícules. Dones</th>\n",
       "      <th>Matrícules. Homes</th>\n",
       "      <th>Matrícules. Dones %</th>\n",
       "      <th>Matrícules. Homes %</th>\n",
       "    </tr>\n",
       "    <tr>\n",
       "      <th>Nom comarca</th>\n",
       "      <th>Nom naturalesa</th>\n",
       "      <th></th>\n",
       "      <th></th>\n",
       "      <th></th>\n",
       "      <th></th>\n",
       "    </tr>\n",
       "  </thead>\n",
       "  <tbody>\n",
       "    <tr>\n",
       "      <th rowspan=\"2\" valign=\"top\">Alt Camp</th>\n",
       "      <th>Privat</th>\n",
       "      <td>815</td>\n",
       "      <td>734</td>\n",
       "      <td>52.614590</td>\n",
       "      <td>47.385410</td>\n",
       "    </tr>\n",
       "    <tr>\n",
       "      <th>Públic</th>\n",
       "      <td>2492</td>\n",
       "      <td>2607</td>\n",
       "      <td>48.872328</td>\n",
       "      <td>51.127672</td>\n",
       "    </tr>\n",
       "    <tr>\n",
       "      <th rowspan=\"2\" valign=\"top\">Alt Empordà</th>\n",
       "      <th>Privat</th>\n",
       "      <td>1292</td>\n",
       "      <td>1368</td>\n",
       "      <td>48.571429</td>\n",
       "      <td>51.428571</td>\n",
       "    </tr>\n",
       "    <tr>\n",
       "      <th>Públic</th>\n",
       "      <td>9135</td>\n",
       "      <td>9306</td>\n",
       "      <td>49.536359</td>\n",
       "      <td>50.463641</td>\n",
       "    </tr>\n",
       "    <tr>\n",
       "      <th>Alt Penedès</th>\n",
       "      <th>Privat</th>\n",
       "      <td>2082</td>\n",
       "      <td>2067</td>\n",
       "      <td>50.180766</td>\n",
       "      <td>49.819234</td>\n",
       "    </tr>\n",
       "    <tr>\n",
       "      <th>...</th>\n",
       "      <th>...</th>\n",
       "      <td>...</td>\n",
       "      <td>...</td>\n",
       "      <td>...</td>\n",
       "      <td>...</td>\n",
       "    </tr>\n",
       "    <tr>\n",
       "      <th>Val d'Aran</th>\n",
       "      <th>Públic</th>\n",
       "      <td>612</td>\n",
       "      <td>603</td>\n",
       "      <td>50.370370</td>\n",
       "      <td>49.629630</td>\n",
       "    </tr>\n",
       "    <tr>\n",
       "      <th rowspan=\"2\" valign=\"top\">Vallès Occident</th>\n",
       "      <th>Privat</th>\n",
       "      <td>24565</td>\n",
       "      <td>26169</td>\n",
       "      <td>48.417297</td>\n",
       "      <td>51.578761</td>\n",
       "    </tr>\n",
       "    <tr>\n",
       "      <th>Públic</th>\n",
       "      <td>47732</td>\n",
       "      <td>49310</td>\n",
       "      <td>49.185429</td>\n",
       "      <td>50.811479</td>\n",
       "    </tr>\n",
       "    <tr>\n",
       "      <th rowspan=\"2\" valign=\"top\">Vallès Oriental</th>\n",
       "      <th>Privat</th>\n",
       "      <td>6510</td>\n",
       "      <td>6750</td>\n",
       "      <td>49.095023</td>\n",
       "      <td>50.904977</td>\n",
       "    </tr>\n",
       "    <tr>\n",
       "      <th>Públic</th>\n",
       "      <td>24086</td>\n",
       "      <td>25317</td>\n",
       "      <td>48.754124</td>\n",
       "      <td>51.245876</td>\n",
       "    </tr>\n",
       "  </tbody>\n",
       "</table>\n",
       "<p>79 rows × 4 columns</p>\n",
       "</div>"
      ],
      "text/plain": [
       "                                Matrícules. Dones  Matrícules. Homes  \\\n",
       "Nom comarca     Nom naturalesa                                         \n",
       "Alt Camp        Privat                        815                734   \n",
       "                Públic                       2492               2607   \n",
       "Alt Empordà     Privat                       1292               1368   \n",
       "                Públic                       9135               9306   \n",
       "Alt Penedès     Privat                       2082               2067   \n",
       "...                                           ...                ...   \n",
       "Val d'Aran      Públic                        612                603   \n",
       "Vallès Occident Privat                      24565              26169   \n",
       "                Públic                      47732              49310   \n",
       "Vallès Oriental Privat                       6510               6750   \n",
       "                Públic                      24086              25317   \n",
       "\n",
       "                                Matrícules. Dones %  Matrícules. Homes %  \n",
       "Nom comarca     Nom naturalesa                                            \n",
       "Alt Camp        Privat                    52.614590            47.385410  \n",
       "                Públic                    48.872328            51.127672  \n",
       "Alt Empordà     Privat                    48.571429            51.428571  \n",
       "                Públic                    49.536359            50.463641  \n",
       "Alt Penedès     Privat                    50.180766            49.819234  \n",
       "...                                             ...                  ...  \n",
       "Val d'Aran      Públic                    50.370370            49.629630  \n",
       "Vallès Occident Privat                    48.417297            51.578761  \n",
       "                Públic                    49.185429            50.811479  \n",
       "Vallès Oriental Privat                    49.095023            50.904977  \n",
       "                Públic                    48.754124            51.245876  \n",
       "\n",
       "[79 rows x 4 columns]"
      ]
     },
     "execution_count": 48,
     "metadata": {},
     "output_type": "execute_result"
    }
   ],
   "source": [
    "out2 = alumnes[alumnes['Any']==2022].iloc[:,[5,11,-7,-6,-5]]\n",
    "out2 = out2.groupby(by=['Nom comarca','Nom naturalesa']).sum()\n",
    "out2[\"Matrícules. Dones %\"] = out2['Matrícules. Dones'] *100/ out2['Matrícules. Total']\n",
    "out2[\"Matrícules. Homes %\"] = out2['Matrícules. Homes'] *100/ out2['Matrícules. Total']\n",
    "out2 = out2.iloc[:,1:]\n",
    "out2"
   ]
  },
  {
   "cell_type": "markdown",
   "id": "b353c058",
   "metadata": {},
   "source": [
    "Generate csv file 'out2'"
   ]
  },
  {
   "cell_type": "code",
   "execution_count": 37,
   "id": "37619003",
   "metadata": {},
   "outputs": [],
   "source": [
    "out2.to_csv('out2.csv', index=True)"
   ]
  },
  {
   "cell_type": "markdown",
   "id": "2ff2cca0",
   "metadata": {},
   "source": [
    "**Data for Donut Chart**"
   ]
  },
  {
   "cell_type": "code",
   "execution_count": 50,
   "id": "6bee5104",
   "metadata": {},
   "outputs": [
    {
     "name": "stderr",
     "output_type": "stream",
     "text": [
      "C:\\Users\\Robert\\AppData\\Local\\Temp\\ipykernel_11200\\107619191.py:2: SettingWithCopyWarning: \n",
      "A value is trying to be set on a copy of a slice from a DataFrame.\n",
      "Try using .loc[row_indexer,col_indexer] = value instead\n",
      "\n",
      "See the caveats in the documentation: https://pandas.pydata.org/pandas-docs/stable/user_guide/indexing.html#returning-a-view-versus-a-copy\n",
      "  out3['count'] = [1]* len(out3)\n"
     ]
    },
    {
     "data": {
      "text/html": [
       "<div>\n",
       "<style scoped>\n",
       "    .dataframe tbody tr th:only-of-type {\n",
       "        vertical-align: middle;\n",
       "    }\n",
       "\n",
       "    .dataframe tbody tr th {\n",
       "        vertical-align: top;\n",
       "    }\n",
       "\n",
       "    .dataframe thead th {\n",
       "        text-align: right;\n",
       "    }\n",
       "</style>\n",
       "<table border=\"1\" class=\"dataframe\">\n",
       "  <thead>\n",
       "    <tr style=\"text-align: right;\">\n",
       "      <th></th>\n",
       "      <th></th>\n",
       "      <th>count</th>\n",
       "    </tr>\n",
       "    <tr>\n",
       "      <th>Nom comarca</th>\n",
       "      <th>Nom titularitat</th>\n",
       "      <th></th>\n",
       "    </tr>\n",
       "  </thead>\n",
       "  <tbody>\n",
       "    <tr>\n",
       "      <th rowspan=\"5\" valign=\"top\">Alt Camp</th>\n",
       "      <th>Cooperatives</th>\n",
       "      <td>3</td>\n",
       "    </tr>\n",
       "    <tr>\n",
       "      <th>Corporacions Locals</th>\n",
       "      <td>58</td>\n",
       "    </tr>\n",
       "    <tr>\n",
       "      <th>Departament d'Educació</th>\n",
       "      <td>93</td>\n",
       "    </tr>\n",
       "    <tr>\n",
       "      <th>Fundacions</th>\n",
       "      <td>6</td>\n",
       "    </tr>\n",
       "    <tr>\n",
       "      <th>Ordes i Congregacions Catòlics</th>\n",
       "      <td>3</td>\n",
       "    </tr>\n",
       "    <tr>\n",
       "      <th>...</th>\n",
       "      <th>...</th>\n",
       "      <td>...</td>\n",
       "    </tr>\n",
       "    <tr>\n",
       "      <th rowspan=\"5\" valign=\"top\">Vallès Oriental</th>\n",
       "      <th>Ordes i Congregacions Catòlics</th>\n",
       "      <td>12</td>\n",
       "    </tr>\n",
       "    <tr>\n",
       "      <th>Persones Físiques</th>\n",
       "      <td>50</td>\n",
       "    </tr>\n",
       "    <tr>\n",
       "      <th>Persones Jurídiques Estrangeres</th>\n",
       "      <td>1</td>\n",
       "    </tr>\n",
       "    <tr>\n",
       "      <th>Societats Civils</th>\n",
       "      <td>14</td>\n",
       "    </tr>\n",
       "    <tr>\n",
       "      <th>Societats Mercantils</th>\n",
       "      <td>83</td>\n",
       "    </tr>\n",
       "  </tbody>\n",
       "</table>\n",
       "<p>338 rows × 1 columns</p>\n",
       "</div>"
      ],
      "text/plain": [
       "                                                 count\n",
       "Nom comarca     Nom titularitat                       \n",
       "Alt Camp        Cooperatives                         3\n",
       "                Corporacions Locals                 58\n",
       "                Departament d'Educació              93\n",
       "                Fundacions                           6\n",
       "                Ordes i Congregacions Catòlics       3\n",
       "...                                                ...\n",
       "Vallès Oriental Ordes i Congregacions Catòlics      12\n",
       "                Persones Físiques                   50\n",
       "                Persones Jurídiques Estrangeres      1\n",
       "                Societats Civils                    14\n",
       "                Societats Mercantils                83\n",
       "\n",
       "[338 rows x 1 columns]"
      ]
     },
     "execution_count": 50,
     "metadata": {},
     "output_type": "execute_result"
    }
   ],
   "source": [
    "out3 = centres.iloc[:,[7,15]]\n",
    "out3['count'] = [1]* len(out3)\n",
    "out3 = out3.groupby(by=['Nom comarca','Nom titularitat']).sum()\n",
    "out3"
   ]
  },
  {
   "cell_type": "markdown",
   "id": "e4d8e6d5",
   "metadata": {},
   "source": [
    "Generate csv file 'out3'"
   ]
  },
  {
   "cell_type": "code",
   "execution_count": 47,
   "id": "58dee18c",
   "metadata": {},
   "outputs": [],
   "source": [
    "out3.to_csv('out3.csv', index=True)"
   ]
  }
 ],
 "metadata": {
  "kernelspec": {
   "display_name": "Python 3 (ipykernel)",
   "language": "python",
   "name": "python3"
  },
  "language_info": {
   "codemirror_mode": {
    "name": "ipython",
    "version": 3
   },
   "file_extension": ".py",
   "mimetype": "text/x-python",
   "name": "python",
   "nbconvert_exporter": "python",
   "pygments_lexer": "ipython3",
   "version": "3.9.13"
  }
 },
 "nbformat": 4,
 "nbformat_minor": 5
}
